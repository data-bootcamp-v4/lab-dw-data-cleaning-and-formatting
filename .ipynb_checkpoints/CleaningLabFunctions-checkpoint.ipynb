{
 "cells": [
  {
   "cell_type": "code",
   "execution_count": 1,
   "id": "a8036ba2",
   "metadata": {},
   "outputs": [],
   "source": [
    "### CHALLENGE 2\n",
    "\n",
    "\n",
    "def rename_columns(df):\n",
    "    new_col_names = [name.strip().lower().replace(' ', '_') for name in df.columns]\n",
    "    df.columns = new_col_names\n",
    "\n"
   ]
  },
  {
   "cell_type": "code",
   "execution_count": 2,
   "id": "5c79327d",
   "metadata": {},
   "outputs": [],
   "source": [
    "def clean_gender(df):\n",
    "    df.replace(to_replace = [\"M\", \"Male\"],\n",
    "                          value = \"Male\", inplace=True)\n",
    "    df.replace(to_replace = [\"female\", \"Femal\", \"F\"],\n",
    "                          value = \"Female\", inplace=True)\n",
    "    data.replace(to_replace = [\"nan\"],\n",
    "                          value = \"no answer\", inplace=True)"
   ]
  },
  {
   "cell_type": "code",
   "execution_count": 4,
   "id": "c1a858cf",
   "metadata": {},
   "outputs": [],
   "source": [
    "def reg_char(df):\n",
    "    df = df.str.replace('%', '') "
   ]
  },
  {
   "cell_type": "code",
   "execution_count": 5,
   "id": "9586c804",
   "metadata": {},
   "outputs": [],
   "source": [
    "def type_change(df):\n",
    "    df['Customer Lifetime Value'] = df['Customer Lifetime Value'].astype('float') \n"
   ]
  },
  {
   "cell_type": "code",
   "execution_count": 7,
   "id": "50cb9b52",
   "metadata": {},
   "outputs": [],
   "source": [
    "def null_values(df):\n",
    "    null_cols = data.isnull().sum()\n",
    "    null_cols[null_cols > 0]\n",
    "    df =  df.dropna(inplace=True) "
   ]
  },
  {
   "cell_type": "code",
   "execution_count": 10,
   "id": "1dfb8191",
   "metadata": {},
   "outputs": [],
   "source": [
    "def cleaning(df):\n",
    "    new_col_names = [name.strip().lower().replace(' ', '_') for name in df.columns]\n",
    "    df.columns = new_col_names\n",
    "    df.replace(to_replace = [\"M\", \"Male\"],\n",
    "                          value = \"Male\", inplace=True)\n",
    "    df.replace(to_replace = [\"female\", \"Femal\", \"F\"],\n",
    "                          value = \"Female\", inplace=True)\n",
    "    data.replace(to_replace = [\"nan\"],\n",
    "                          value = \"no answer\", inplace=True)\n",
    "    df = df.str.replace('%', '') \n",
    "    df['Customer Lifetime Value'] = df['Customer Lifetime Value'].astype('float')\n",
    "    null_cols = data.isnull().sum()\n",
    "    null_cols[null_cols > 0]\n",
    "    df =  df.dropna(inplace=True) "
   ]
  },
  {
   "cell_type": "code",
   "execution_count": 6,
   "id": "49aef3d1",
   "metadata": {},
   "outputs": [],
   "source": []
  },
  {
   "cell_type": "code",
   "execution_count": null,
   "id": "de9efb84",
   "metadata": {},
   "outputs": [],
   "source": []
  }
 ],
 "metadata": {
  "kernelspec": {
   "display_name": "Python 3 (ipykernel)",
   "language": "python",
   "name": "python3"
  },
  "language_info": {
   "codemirror_mode": {
    "name": "ipython",
    "version": 3
   },
   "file_extension": ".py",
   "mimetype": "text/x-python",
   "name": "python",
   "nbconvert_exporter": "python",
   "pygments_lexer": "ipython3",
   "version": "3.10.9"
  }
 },
 "nbformat": 4,
 "nbformat_minor": 5
}
