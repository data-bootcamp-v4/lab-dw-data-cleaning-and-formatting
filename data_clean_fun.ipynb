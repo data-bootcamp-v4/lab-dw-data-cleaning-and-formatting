{
 "cells": [
  {
   "cell_type": "code",
   "execution_count": 1,
   "id": "805976a3",
   "metadata": {},
   "outputs": [],
   "source": [
    "import pandas as pd"
   ]
  },
  {
   "cell_type": "code",
   "execution_count": 2,
   "id": "67c73c71",
   "metadata": {},
   "outputs": [],
   "source": [
    "def load_data(data_url):\n",
    "    df = pd.read_csv(data_url)\n",
    "    return df\n",
    "\n",
    "def clean_column_names(df):\n",
    "    df.columns = df.columns.str.lower().str.replace(\" \", \"_\")\n",
    "    return df\n",
    "\n",
    "def correct_data_types(df):\n",
    "    numeric_columns = df.select_dtypes(include=['int64', 'float64']).columns\n",
    "    df[numeric_columns] = df[numeric_columns].fillna(0)\n",
    "    df[numeric_columns] = df[numeric_columns].applymap(int)\n",
    "    return df\n",
    "\n",
    "\n",
    "    \n",
    "def handle_null_values(df, strategy='mean'):\n",
    "    numeric_columns = df.select_dtypes(include=['int64', 'float64']).columns\n",
    "    if strategy == 'mean':\n",
    "        df[numeric_columns] = df[numeric_columns].fillna(df[numeric_columns].mean())\n",
    "        return df"
   ]
  },
  {
   "cell_type": "code",
   "execution_count": 3,
   "id": "a29f9188",
   "metadata": {},
   "outputs": [],
   "source": [
    "def handle_duplicates(df, strategy='drop_all'):\n",
    "    if strategy == 'drop_all':\n",
    "        df = df.drop_duplicates()\n",
    "    elif strategy == 'keep_first':\n",
    "        df = df.drop_duplicates(keep='first')\n",
    "    elif strategy == 'keep_last':\n",
    "        df = df.drop_duplicates(keep='last')\n",
    "    return df\n"
   ]
  },
  {
   "cell_type": "code",
   "execution_count": 6,
   "id": "700a0d78",
   "metadata": {},
   "outputs": [],
   "source": [
    "def main():\n",
    "    data_url = \"https://raw.githubusercontent.com/data-bootcamp-v4/data/main/file1.csv\"\n",
    "    df = load_data(data_url)  \n",
    "    df = handle_null_values(df, strategy='mean')\n",
    "    print(\"Null values handled.\")\n",
    "    df = handle_duplicates(df, strategy='drop_all')\n",
    "    print(\"Duplicates handled.\")\n",
    "    cleaned_data_path = \"cleaned_data.csv\"\n"
   ]
  },
  {
   "cell_type": "code",
   "execution_count": 7,
   "id": "43004210",
   "metadata": {},
   "outputs": [
    {
     "name": "stdout",
     "output_type": "stream",
     "text": [
      "Null values handled.\n",
      "Duplicates handled.\n"
     ]
    }
   ],
   "source": [
    "if __name__ == \"__main__\":\n",
    "    main()"
   ]
  },
  {
   "cell_type": "code",
   "execution_count": 8,
   "id": "1fcaa9b7",
   "metadata": {},
   "outputs": [],
   "source": [
    "%load_ext autoreload\n",
    "%autoreload 2"
   ]
  },
  {
   "cell_type": "code",
   "execution_count": null,
   "id": "cd016188",
   "metadata": {},
   "outputs": [],
   "source": []
  }
 ],
 "metadata": {
  "kernelspec": {
   "display_name": "Python 3 (ipykernel)",
   "language": "python",
   "name": "python3"
  },
  "language_info": {
   "codemirror_mode": {
    "name": "ipython",
    "version": 3
   },
   "file_extension": ".py",
   "mimetype": "text/x-python",
   "name": "python",
   "nbconvert_exporter": "python",
   "pygments_lexer": "ipython3",
   "version": "3.10.9"
  }
 },
 "nbformat": 4,
 "nbformat_minor": 5
}
