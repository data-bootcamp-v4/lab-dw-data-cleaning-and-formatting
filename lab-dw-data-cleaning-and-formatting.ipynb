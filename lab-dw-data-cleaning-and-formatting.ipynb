{
 "cells": [
  {
   "cell_type": "markdown",
   "id": "25d7736c-ba17-4aff-b6bb-66eba20fbf4e",
   "metadata": {},
   "source": [
    "# Lab | Data Cleaning and Formatting"
   ]
  },
  {
   "cell_type": "markdown",
   "id": "34ae7c66-9458-477c-8a31-c6b07a36bf66",
   "metadata": {},
   "source": [
    "Objective: Apply Python programming to perform data cleaning and formatting, including identifying and handling with missing values, duplicates, outliers, errors, and using various formatting techniques such as changing data types, renaming columns, and handling string values, to prepare data for analysis."
   ]
  },
  {
   "cell_type": "markdown",
   "id": "d1973e9e-8be6-4039-b70e-d73ee0d94c99",
   "metadata": {},
   "source": [
    "In this lab, we will be working with the customer data from an insurance company, which can be found in the CSV file located at the following link: https://raw.githubusercontent.com/data-bootcamp-v4/data/main/file1.csv\n"
   ]
  },
  {
   "cell_type": "markdown",
   "id": "31b8a9e7-7db9-4604-991b-ef6771603e57",
   "metadata": {},
   "source": [
    "# Challenge 1: Data Cleaning and Formatting"
   ]
  },
  {
   "cell_type": "markdown",
   "id": "81553f19-9f2c-484b-8940-520aff884022",
   "metadata": {},
   "source": [
    "## Exercise 1: Cleaning Column Names"
   ]
  },
  {
   "cell_type": "markdown",
   "id": "3ec42570-52cb-4bf6-a213-3e49322d5e68",
   "metadata": {},
   "source": [
    "To ensure consistency and ease of use, standardize the column names of the dataframe. Start by taking a first look at the dataframe and identifying any column names that need to be modified. Use appropriate naming conventions and make sure that column names are descriptive and informative."
   ]
  },
  {
   "cell_type": "code",
   "execution_count": 3,
   "id": "5810735c-8056-4442-bbf2-dda38d3e284a",
   "metadata": {},
   "outputs": [],
   "source": [
    "import pandas as pd\n",
    "data_url = \"https://raw.githubusercontent.com/data-bootcamp-v4/data/main/file1.csv\"\n",
    "df = pd.read_csv(data_url)"
   ]
  },
  {
   "cell_type": "code",
   "execution_count": 4,
   "id": "e320dd17",
   "metadata": {},
   "outputs": [
    {
     "name": "stdout",
     "output_type": "stream",
     "text": [
      "Current column names:\n",
      "Index(['Customer', 'ST', 'GENDER', 'Education', 'Customer Lifetime Value',\n",
      "       'Income', 'Monthly Premium Auto', 'Number of Open Complaints',\n",
      "       'Policy Type', 'Vehicle Class', 'Total Claim Amount'],\n",
      "      dtype='object')\n"
     ]
    }
   ],
   "source": [
    "print(\"Current column names:\")\n",
    "print(df.columns)"
   ]
  },
  {
   "cell_type": "code",
   "execution_count": 5,
   "id": "1bb0d6a8",
   "metadata": {},
   "outputs": [],
   "source": [
    "df.columns = df.columns.str.lower().str.replace(\" \", \"_\")"
   ]
  },
  {
   "cell_type": "code",
   "execution_count": 6,
   "id": "3df0a603",
   "metadata": {},
   "outputs": [
    {
     "name": "stdout",
     "output_type": "stream",
     "text": [
      "\n",
      "Modified column names:\n",
      "Index(['customer', 'st', 'gender', 'education', 'customer_lifetime_value',\n",
      "       'income', 'monthly_premium_auto', 'number_of_open_complaints',\n",
      "       'policy_type', 'vehicle_class', 'total_claim_amount'],\n",
      "      dtype='object')\n"
     ]
    }
   ],
   "source": [
    "print(\"\\nModified column names:\")\n",
    "print(df.columns)"
   ]
  },
  {
   "cell_type": "markdown",
   "id": "9cb501ec-36ff-4589-b872-6252bb150316",
   "metadata": {},
   "source": [
    "## Exercise 2: Cleaning invalid Values"
   ]
  },
  {
   "cell_type": "markdown",
   "id": "3e9d15bf-efca-4471-8227-41b9850e85bd",
   "metadata": {},
   "source": [
    "The dataset contains columns with inconsistent and incorrect values that could affect the accuracy of our analysis. Therefore, we need to clean these columns to ensure that they contain only valid data. For example, the gender column contains various inconsistent values such as \"F\", \"M\", \"Femal\", \"Male\", \"female\", which need to be standardized.\n",
    "\n",
    "Note that this exercise will focus only on cleaning inconsistent values and will not involve handling null values (NaN or None)."
   ]
  },
  {
   "cell_type": "code",
   "execution_count": 10,
   "id": "3f8ee5cb-50ab-48af-8a9f-9a389804033c",
   "metadata": {},
   "outputs": [],
   "source": [
    "def standardize_gender(gender):\n",
    "    gender = str(gender).strip().lower()\n",
    "    if gender.startswith(\"f\"):\n",
    "        return \"Female\"\n",
    "    elif gender.startswith(\"m\"):\n",
    "        return \"Male\"\n",
    "    else:\n",
    "        return gender"
   ]
  },
  {
   "cell_type": "code",
   "execution_count": 11,
   "id": "4ac56903",
   "metadata": {},
   "outputs": [],
   "source": [
    "df[\"gender\"] = df[\"gender\"].apply(standardize_gender)"
   ]
  },
  {
   "cell_type": "code",
   "execution_count": 12,
   "id": "421850e9",
   "metadata": {},
   "outputs": [
    {
     "name": "stdout",
     "output_type": "stream",
     "text": [
      "['nan' 'Female' 'Male']\n"
     ]
    }
   ],
   "source": [
    "print(df[\"gender\"].unique())"
   ]
  },
  {
   "cell_type": "markdown",
   "id": "85ff78ce-0174-4890-9db3-8048b7d7d2d0",
   "metadata": {},
   "source": [
    "## Exercise 3: Formatting data types"
   ]
  },
  {
   "cell_type": "markdown",
   "id": "b91c2cf8-79a2-4baf-9f65-ff2fb22270bd",
   "metadata": {},
   "source": [
    "The data types of many columns in the dataset appear to be incorrect. This could impact the accuracy of our analysis. To ensure accurate analysis, we need to correct the data types of these columns. Please update the data types of the columns as appropriate. "
   ]
  },
  {
   "cell_type": "markdown",
   "id": "43e5d853-ff9e-43b2-9d92-aef2f78764f3",
   "metadata": {},
   "source": [
    "It is important to note that this exercise does not involve handling null values (NaN or None)."
   ]
  },
  {
   "cell_type": "code",
   "execution_count": 14,
   "id": "eb8f5991-73e9-405f-bf1c-6b7c589379a9",
   "metadata": {},
   "outputs": [],
   "source": [
    "df.columns = df.columns.str.lower().str.replace(\" \", \"_\")"
   ]
  },
  {
   "cell_type": "code",
   "execution_count": 20,
   "id": "b4a3b48a",
   "metadata": {},
   "outputs": [],
   "source": [
    "df['customer_lifetime_value'] = df['customer_lifetime_value'].str.replace('%', '').astype(float)"
   ]
  },
  {
   "cell_type": "code",
   "execution_count": 16,
   "id": "ab214460",
   "metadata": {},
   "outputs": [],
   "source": [
    "df['income'] = df['income'].astype(float)"
   ]
  },
  {
   "cell_type": "code",
   "execution_count": 17,
   "id": "ec4d558b",
   "metadata": {},
   "outputs": [],
   "source": [
    "df['monthly_premium_auto'] = df['monthly_premium_auto'].astype(float)"
   ]
  },
  {
   "cell_type": "code",
   "execution_count": 21,
   "id": "7b362788",
   "metadata": {},
   "outputs": [],
   "source": [
    "df['number_of_open_complaints'] = df['number_of_open_complaints'].replace('1/0/00', 0)"
   ]
  },
  {
   "cell_type": "code",
   "execution_count": 19,
   "id": "d7bf2072",
   "metadata": {},
   "outputs": [],
   "source": [
    "df['total_claim_amount'] = df['total_claim_amount'].astype(float)"
   ]
  },
  {
   "cell_type": "code",
   "execution_count": 22,
   "id": "810b151f",
   "metadata": {},
   "outputs": [
    {
     "name": "stdout",
     "output_type": "stream",
     "text": [
      "customer                      object\n",
      "st                            object\n",
      "gender                        object\n",
      "education                     object\n",
      "customer_lifetime_value      float64\n",
      "income                       float64\n",
      "monthly_premium_auto         float64\n",
      "number_of_open_complaints     object\n",
      "policy_type                   object\n",
      "vehicle_class                 object\n",
      "total_claim_amount           float64\n",
      "dtype: object\n"
     ]
    }
   ],
   "source": [
    "print(df.dtypes)"
   ]
  },
  {
   "cell_type": "markdown",
   "id": "14c52e28-2d0c-4dd2-8bd5-3476e34fadc1",
   "metadata": {},
   "source": [
    "## Exercise 4: Dealing with Null values"
   ]
  },
  {
   "cell_type": "markdown",
   "id": "73b7e0e7-959a-46cf-bb36-6662c262740f",
   "metadata": {},
   "source": [
    "Identify any columns with null or missing values. Identify how many null values each column has. You can use the isnull() function in pandas to find columns with null values.\n",
    "\n",
    "Decide on a strategy for handling the null values. There are several options, including:\n",
    "\n",
    "- Drop the rows or columns with null values\n",
    "- Fill the null values with a specific value (such as the column mean or median for numerical variables and mode for categorical variables)\n",
    "- Fill the null values with the previous or next value in the column\n",
    "- Fill the null values based on a more complex algorithm or model (we haven't studied this yet)\n",
    "\n",
    "Implement your chosen strategy to handle the null values. You can use the fillna() function in pandas to fill null values or dropna() function to drop null values.\n",
    "\n",
    "Verify that your strategy has successfully handled the null values. You can use the isnull() function again to check if there are still null values in the dataset.\n",
    "\n",
    "Remember to document your process and explain your reasoning for choosing a particular strategy for handling null values. \n"
   ]
  },
  {
   "cell_type": "markdown",
   "id": "c5df7cac-92ab-4ed5-8513-885e1fb77d72",
   "metadata": {},
   "source": [
    "After formatting data types, as a last step, convert all the numeric variables to integers using applymap."
   ]
  },
  {
   "cell_type": "markdown",
   "id": "5c1e54fd-0f34-489a-aa7c-cdf660ed1c21",
   "metadata": {},
   "source": [
    "Save the cleaned dataset to a new CSV file."
   ]
  },
  {
   "cell_type": "code",
   "execution_count": 23,
   "id": "f184fc35-7831-4836-a0a5-e7f99e01b40e",
   "metadata": {},
   "outputs": [],
   "source": [
    "null_counts = df.isnull().sum()"
   ]
  },
  {
   "cell_type": "code",
   "execution_count": 24,
   "id": "5a065ae2",
   "metadata": {},
   "outputs": [],
   "source": [
    "numeric_columns = df.select_dtypes(include=['int64', 'float64']).columns\n",
    "df[numeric_columns] = df[numeric_columns].fillna(df[numeric_columns].mean())"
   ]
  },
  {
   "cell_type": "code",
   "execution_count": 25,
   "id": "474d487a",
   "metadata": {},
   "outputs": [],
   "source": [
    "df[numeric_columns] = df[numeric_columns].applymap(int)"
   ]
  },
  {
   "cell_type": "code",
   "execution_count": 26,
   "id": "5e0a7131",
   "metadata": {},
   "outputs": [
    {
     "name": "stdout",
     "output_type": "stream",
     "text": [
      "customer                     2937\n",
      "st                           2937\n",
      "gender                          0\n",
      "education                    2937\n",
      "customer_lifetime_value         0\n",
      "income                          0\n",
      "monthly_premium_auto            0\n",
      "number_of_open_complaints    2937\n",
      "policy_type                  2937\n",
      "vehicle_class                2937\n",
      "total_claim_amount              0\n",
      "dtype: int64\n"
     ]
    }
   ],
   "source": [
    "print(df.isnull().sum())"
   ]
  },
  {
   "cell_type": "code",
   "execution_count": 27,
   "id": "a717f27d",
   "metadata": {},
   "outputs": [],
   "source": [
    "cleaned_data_path = \"cleaned_data.csv\"\n",
    "df.to_csv(cleaned_data_path, index=False)"
   ]
  },
  {
   "cell_type": "code",
   "execution_count": 28,
   "id": "89b598c5",
   "metadata": {},
   "outputs": [
    {
     "name": "stdout",
     "output_type": "stream",
     "text": [
      "Data cleaning and handling null values completed. Cleaned data saved to 'cleaned_data.csv'.\n"
     ]
    }
   ],
   "source": [
    "print(\"Data cleaning and handling null values completed. Cleaned data saved to 'cleaned_data.csv'.\")"
   ]
  },
  {
   "cell_type": "markdown",
   "id": "98416351-e999-4156-9834-9b00a311adfa",
   "metadata": {},
   "source": [
    "## Exercise 5: Dealing with duplicates"
   ]
  },
  {
   "cell_type": "markdown",
   "id": "ae35e8e9-4ee4-4e8e-8a5a-c8d270693bb5",
   "metadata": {},
   "source": [
    "Use the .duplicated() method to identify any duplicate rows in the dataframe.\n",
    "\n",
    "Decide on a strategy for handling the duplicates. Options include:\n",
    "- Dropping all duplicate rows\n",
    "- Keeping only the first occurrence of each duplicated row\n",
    "- Keeping only the last occurrence of each duplicated row\n",
    "- Dropping duplicates based on a subset of columns\n",
    "- Dropping duplicates based on a specific column\n",
    "\n",
    "Implement your chosen strategy using the drop_duplicates() function.\n",
    "\n",
    "Verify that your strategy has successfully handled the duplicates by checking for duplicates again using .duplicated().\n",
    "\n",
    "Remember to document your process and explain your reasoning for choosing a particular strategy for handling duplicates.\n",
    "\n",
    "Save the cleaned dataset to a new CSV file."
   ]
  },
  {
   "cell_type": "code",
   "execution_count": 29,
   "id": "1929362c-47ed-47cb-baca-358b78d401a0",
   "metadata": {},
   "outputs": [],
   "source": [
    "df = df.drop_duplicates()"
   ]
  },
  {
   "cell_type": "code",
   "execution_count": 30,
   "id": "85488dc3",
   "metadata": {},
   "outputs": [
    {
     "name": "stdout",
     "output_type": "stream",
     "text": [
      "0\n"
     ]
    }
   ],
   "source": [
    "print(df.duplicated().sum())"
   ]
  },
  {
   "cell_type": "markdown",
   "id": "60840701-4783-40e2-b4d8-55303f9100c9",
   "metadata": {},
   "source": [
    "# Challenge 2: creating functions on a separate `py` file"
   ]
  },
  {
   "cell_type": "markdown",
   "id": "9d1adb3a-17cf-4899-8041-da21a4337fb4",
   "metadata": {},
   "source": [
    "Put all the data cleaning and formatting steps into functions, and create a main function that performs all the cleaning and formatting. \n",
    "\n",
    "Write these functions in a separate .py file(s). By putting these steps into functions, we can make the code more modular and easier to maintain. "
   ]
  },
  {
   "cell_type": "markdown",
   "id": "0e170dc2-b62c-417a-8248-e63ed18a70c4",
   "metadata": {},
   "source": [
    "*Hint: autoreload module is a utility module in Python that allows you to automatically reload modules in the current session when changes are made to the source code. This can be useful in situations where you are actively developing code and want to see the effects of changes you make without having to constantly restart the Python interpreter or Jupyter Notebook kernel.*"
   ]
  },
  {
   "cell_type": "code",
   "execution_count": null,
   "id": "a52c6dfc-cd11-4d01-bda4-f719fa33e9a4",
   "metadata": {},
   "outputs": [],
   "source": []
  },
  {
   "cell_type": "markdown",
   "id": "80f846bb-3f5e-4ca2-96c0-900728daca5a",
   "metadata": {
    "tags": []
   },
   "source": [
    "# Challenge 3: Analyzing Clean and Formated Data"
   ]
  },
  {
   "cell_type": "markdown",
   "id": "9021630e-cc90-446c-b5bd-264d6c864207",
   "metadata": {},
   "source": [
    "You have been tasked with analyzing the data to identify potential areas for improving customer retention and profitability. Your goal is to identify customers with a high policy claim amount and a low customer lifetime value.\n",
    "\n",
    "In Pandas Lab, we only looked at high policy claim amounts because we couldn't look into low customer lifetime values. If we tried to do work with that column, we wouldn't have been able to do it because customer lifetime value wasn't clean and in its proper format. So after cleaning and formatting the data, lets get some more interesting insights!\n",
    "\n",
    "Instructions:\n",
    "\n",
    "- Review again the statistics for total claim amount and customer lifetime value to gain an understanding of the data.\n",
    "- To identify potential areas for improving customer retention and profitability, we want to focus on customers with a high policy claim amount and a low customer lifetime value. Consider customers with a high policy claim amount to be those in the top 25% of the total claim amount, and clients with a low customer lifetime value to be those in the bottom 25% of the customer lifetime value. Create a pandas DataFrame object that contains information about customers with a policy claim amount greater than the 75th percentile and a customer lifetime value in the bottom 25th percentile.\n",
    "- Use DataFrame methods to calculate summary statistics about the high policy claim amount and low customer lifetime value data. To do so, select both columns of the dataframe simultaneously and pass it to the .describe() method. This will give you descriptive statistics, such as mean, median, standard deviation, minimum and maximum values for both columns at the same time, allowing you to compare and analyze their characteristics."
   ]
  },
  {
   "cell_type": "code",
   "execution_count": 36,
   "id": "6324e610",
   "metadata": {},
   "outputs": [],
   "source": [
    "cleaned_data_path = \"cleaned_data.csv\"\n",
    "df = pd.read_csv(cleaned_data_path)"
   ]
  },
  {
   "cell_type": "code",
   "execution_count": 37,
   "id": "211e82b5-461a-4d6f-8a23-4deccb84173c",
   "metadata": {},
   "outputs": [],
   "source": [
    "total_claim_75th_percentile = df['total_claim_amount'].quantile(0.75)\n",
    "customer_lifetime_value_25th_percentile = df['customer_lifetime_value'].quantile(0.25)"
   ]
  },
  {
   "cell_type": "code",
   "execution_count": 38,
   "id": "c6251d1f",
   "metadata": {},
   "outputs": [],
   "source": [
    "high_claim_low_clv_df = df[\n",
    "    (df['total_claim_amount'] > total_claim_75th_percentile) & \n",
    "    (df['customer_lifetime_value'] < customer_lifetime_value_25th_percentile)]"
   ]
  },
  {
   "cell_type": "code",
   "execution_count": 35,
   "id": "fb6057c3",
   "metadata": {},
   "outputs": [
    {
     "name": "stdout",
     "output_type": "stream",
     "text": [
      "       total_claim_amount  customer_lifetime_value\n",
      "count           40.000000                40.000000\n",
      "mean           723.300000            341577.425000\n",
      "std            149.216449             56921.466178\n",
      "min            537.000000            228759.000000\n",
      "25%            632.750000            304220.500000\n",
      "50%            685.000000            365995.000000\n",
      "75%            799.000000            387364.000000\n",
      "max           1185.000000            402381.000000\n"
     ]
    }
   ],
   "source": [
    "summary_statistics = high_claim_low_clv_df[['total_claim_amount', 'customer_lifetime_value']].describe()\n",
    "print(summary_statistics)"
   ]
  }
 ],
 "metadata": {
  "kernelspec": {
   "display_name": "Python 3 (ipykernel)",
   "language": "python",
   "name": "python3"
  },
  "language_info": {
   "codemirror_mode": {
    "name": "ipython",
    "version": 3
   },
   "file_extension": ".py",
   "mimetype": "text/x-python",
   "name": "python",
   "nbconvert_exporter": "python",
   "pygments_lexer": "ipython3",
   "version": "3.10.9"
  }
 },
 "nbformat": 4,
 "nbformat_minor": 5
}
