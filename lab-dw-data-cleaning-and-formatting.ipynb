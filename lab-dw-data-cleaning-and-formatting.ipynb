{
 "cells": [
  {
   "cell_type": "markdown",
   "id": "25d7736c-ba17-4aff-b6bb-66eba20fbf4e",
   "metadata": {},
   "source": [
    "# Lab | Data Cleaning and Formatting"
   ]
  },
  {
   "cell_type": "markdown",
   "id": "34ae7c66-9458-477c-8a31-c6b07a36bf66",
   "metadata": {},
   "source": [
    "Objective: Apply Python programming to perform data cleaning and formatting, including identifying and handling with missing values, duplicates, outliers, errors, and using various formatting techniques such as changing data types, renaming columns, and handling string values, to prepare data for analysis."
   ]
  },
  {
   "cell_type": "markdown",
   "id": "31b8a9e7-7db9-4604-991b-ef6771603e57",
   "metadata": {},
   "source": [
    "# Challenge 1: Data Cleaning and Formatting"
   ]
  },
  {
   "cell_type": "markdown",
   "id": "d1973e9e-8be6-4039-b70e-d73ee0d94c99",
   "metadata": {},
   "source": [
    "In this lab, we will be working with the customer data from an insurance company, which can be found in the CSV file located at the following link: https://raw.githubusercontent.com/data-bootcamp-v4/data/main/file1.csv\n"
   ]
  },
  {
   "cell_type": "markdown",
   "id": "81553f19-9f2c-484b-8940-520aff884022",
   "metadata": {},
   "source": [
    "## Exercise 1: Cleaning Column Names"
   ]
  },
  {
   "cell_type": "markdown",
   "id": "3ec42570-52cb-4bf6-a213-3e49322d5e68",
   "metadata": {},
   "source": [
    "To ensure consistency and ease of use, standardize the column names of the dataframe. Start by taking a first look at the dataframe and identifying any column names that need to be modified. Use appropriate naming conventions and make sure that column names are descriptive and informative."
   ]
  },
  {
   "cell_type": "code",
   "execution_count": 77,
   "id": "5810735c-8056-4442-bbf2-dda38d3e284a",
   "metadata": {},
   "outputs": [
    {
     "data": {
      "text/plain": [
       "Index(['Customer', 'ST', 'GENDER', 'Education', 'Customer Lifetime Value',\n",
       "       'Income', 'Monthly Premium Auto', 'Number of Open Complaints',\n",
       "       'Policy Type', 'Vehicle Class', 'Total Claim Amount'],\n",
       "      dtype='object')"
      ]
     },
     "execution_count": 77,
     "metadata": {},
     "output_type": "execute_result"
    }
   ],
   "source": [
    "import numpy as np\n",
    "import pandas as pd\n",
    "\n",
    "url = 'https://raw.githubusercontent.com/data-bootcamp-v4/data/main/file1.csv'\n",
    "\n",
    "customers = pd.read_csv(url)\n",
    "\n",
    "customers.columns"
   ]
  },
  {
   "cell_type": "code",
   "execution_count": 78,
   "id": "02355368",
   "metadata": {},
   "outputs": [],
   "source": [
    "new_columns = {\n",
    "    \"GENDER\":\"Gender\",\n",
    "    \"Customer Lifetime Value\":\"CLV\",\n",
    "    \"Monthly Premium Auto\":\"Month_Prem_Auto\",\n",
    "    \"Number of Open Complaints\": \"Num_open_complaints\",\n",
    "    \"Policy Type\":\"Policy_type\",\n",
    "    \"Vehicle Class\":\"Vehicle_class\",\n",
    "    \"Total Claim Amount\":\"Total_claim_amount\"\n",
    "}\n",
    "\n",
    "customers.rename(columns=new_columns, inplace=True)"
   ]
  },
  {
   "cell_type": "code",
   "execution_count": 79,
   "id": "cb1d19b7",
   "metadata": {},
   "outputs": [
    {
     "data": {
      "text/plain": [
       "Index(['Customer', 'ST', 'Gender', 'Education', 'CLV', 'Income',\n",
       "       'Month_Prem_Auto', 'Num_open_complaints', 'Policy_type',\n",
       "       'Vehicle_class', 'Total_claim_amount'],\n",
       "      dtype='object')"
      ]
     },
     "execution_count": 79,
     "metadata": {},
     "output_type": "execute_result"
    }
   ],
   "source": [
    "customers.columns "
   ]
  },
  {
   "cell_type": "markdown",
   "id": "9cb501ec-36ff-4589-b872-6252bb150316",
   "metadata": {},
   "source": [
    "## Exercise 2: Cleaning invalid Values"
   ]
  },
  {
   "cell_type": "markdown",
   "id": "3e9d15bf-efca-4471-8227-41b9850e85bd",
   "metadata": {},
   "source": [
    "The dataset contains columns with inconsistent and incorrect values that could affect the accuracy of our analysis. Therefore, we need to clean these columns to ensure that they contain only valid data. For example, the gender column contains various inconsistent values such as \"F\", \"M\", \"Femal\", \"Male\", \"female\", which need to be standardized.\n",
    "\n",
    "Note that this exercise will focus only on cleaning inconsistent values and will not involve handling null values (NaN or None)."
   ]
  },
  {
   "cell_type": "code",
   "execution_count": 82,
   "id": "3f8ee5cb-50ab-48af-8a9f-9a389804033c",
   "metadata": {},
   "outputs": [
    {
     "data": {
      "text/plain": [
       "array([nan, 'F', 'M'], dtype=object)"
      ]
     },
     "execution_count": 82,
     "metadata": {},
     "output_type": "execute_result"
    }
   ],
   "source": [
    "distinct_values = pd.unique(customers[\"Gender\"])\n",
    "\n",
    "distinct_values"
   ]
  },
  {
   "cell_type": "code",
   "execution_count": 81,
   "id": "570aa792",
   "metadata": {},
   "outputs": [],
   "source": [
    "customers['Gender'].replace({\"Femal\":\"M\", \"Male\":\"M\",\"female\":\"F\"},inplace=True)"
   ]
  },
  {
   "cell_type": "markdown",
   "id": "85ff78ce-0174-4890-9db3-8048b7d7d2d0",
   "metadata": {},
   "source": [
    "## Exercise 3: Formatting data types"
   ]
  },
  {
   "cell_type": "markdown",
   "id": "b91c2cf8-79a2-4baf-9f65-ff2fb22270bd",
   "metadata": {},
   "source": [
    "The data types of many columns in the dataset appear to be incorrect. This could impact the accuracy of our analysis. To ensure accurate analysis, we need to correct the data types of these columns. Please update the data types of the columns as appropriate. "
   ]
  },
  {
   "cell_type": "markdown",
   "id": "43e5d853-ff9e-43b2-9d92-aef2f78764f3",
   "metadata": {},
   "source": [
    "It is important to note that this exercise does not involve handling null values (NaN or None)."
   ]
  },
  {
   "cell_type": "code",
   "execution_count": 92,
   "id": "eb8f5991-73e9-405f-bf1c-6b7c589379a9",
   "metadata": {},
   "outputs": [
    {
     "data": {
      "text/plain": [
       "Customer                object\n",
       "ST                      object\n",
       "Gender                  object\n",
       "Education               object\n",
       "CLV                    float64\n",
       "Income                 float64\n",
       "Month_Prem_Auto        float64\n",
       "Num_open_complaints     object\n",
       "Policy_type             object\n",
       "Vehicle_class           object\n",
       "Total_claim_amount     float64\n",
       "dtype: object"
      ]
     },
     "execution_count": 92,
     "metadata": {},
     "output_type": "execute_result"
    }
   ],
   "source": [
    "customers.dtypes\n"
   ]
  },
  {
   "cell_type": "code",
   "execution_count": 91,
   "id": "0e5c5a19",
   "metadata": {},
   "outputs": [],
   "source": [
    "customers['Total_claim_amount'] = customers['Total_claim_amount'].astype(float)\n"
   ]
  },
  {
   "cell_type": "code",
   "execution_count": 84,
   "id": "53487c21",
   "metadata": {},
   "outputs": [],
   "source": [
    "customers['CLV'] = customers['CLV'].astype(str)\n",
    "customers['CLV'] = customers['CLV'].str.rstrip('%').astype(float) / 100.0\n",
    "customers['CLV'] = pd.to_numeric(customers['CLV']) / 100"
   ]
  },
  {
   "cell_type": "markdown",
   "id": "14c52e28-2d0c-4dd2-8bd5-3476e34fadc1",
   "metadata": {},
   "source": [
    "## Exercise 4: Dealing with Null values"
   ]
  },
  {
   "cell_type": "markdown",
   "id": "73b7e0e7-959a-46cf-bb36-6662c262740f",
   "metadata": {},
   "source": [
    "Identify any columns with null or missing values. Identify how many null values each column has. You can use the isnull() function in pandas to find columns with null values.\n",
    "\n",
    "Decide on a strategy for handling the null values. There are several options, including:\n",
    "\n",
    "- Drop the rows or columns with null values\n",
    "- Fill the null values with a specific value (such as the column mean or median for numerical variables and mode for categorical variables)\n",
    "- Fill the null values with the previous or next value in the column\n",
    "- Fill the null values based on a more complex algorithm or model (we haven't studied this yet)\n",
    "\n",
    "Implement your chosen strategy to handle the null values. You can use the fillna() function in pandas to fill null values or dropna() function to drop null values.\n",
    "\n",
    "Verify that your strategy has successfully handled the null values. You can use the isnull() function again to check if there are still null values in the dataset.\n",
    "\n",
    "Remember to document your process and explain your reasoning for choosing a particular strategy for handling null values. \n"
   ]
  },
  {
   "cell_type": "markdown",
   "id": "c5df7cac-92ab-4ed5-8513-885e1fb77d72",
   "metadata": {},
   "source": [
    "After formatting data types, as a last step, convert all the numeric variables to integers using applymap."
   ]
  },
  {
   "cell_type": "markdown",
   "id": "5c1e54fd-0f34-489a-aa7c-cdf660ed1c21",
   "metadata": {},
   "source": [
    "Save the cleaned dataset to a new CSV file."
   ]
  },
  {
   "cell_type": "code",
   "execution_count": 101,
   "id": "f184fc35-7831-4836-a0a5-e7f99e01b40e",
   "metadata": {},
   "outputs": [
    {
     "data": {
      "text/plain": [
       "Gender    117\n",
       "CLV         3\n",
       "dtype: int64"
      ]
     },
     "execution_count": 101,
     "metadata": {},
     "output_type": "execute_result"
    }
   ],
   "source": [
    "columns_null = customers.columns[customers.isnull().any()]\n",
    "\n",
    "columns_null\n",
    "\n",
    "null_counts = customers[columns_null].isnull().sum()\n",
    "\n",
    "null_counts\n"
   ]
  },
  {
   "cell_type": "code",
   "execution_count": 100,
   "id": "56244438",
   "metadata": {},
   "outputs": [],
   "source": [
    "#First drop all rows with all Null Values\n",
    "customers.dropna(how='all', inplace=True)\n",
    "\n",
    "#I will not change any more null values as I cant guess the gender and cant calculate the CLV since i dont have enough data"
   ]
  },
  {
   "cell_type": "code",
   "execution_count": 103,
   "id": "3f5c6c15",
   "metadata": {},
   "outputs": [
    {
     "data": {
      "text/html": [
       "<div>\n",
       "<style scoped>\n",
       "    .dataframe tbody tr th:only-of-type {\n",
       "        vertical-align: middle;\n",
       "    }\n",
       "\n",
       "    .dataframe tbody tr th {\n",
       "        vertical-align: top;\n",
       "    }\n",
       "\n",
       "    .dataframe thead th {\n",
       "        text-align: right;\n",
       "    }\n",
       "</style>\n",
       "<table border=\"1\" class=\"dataframe\">\n",
       "  <thead>\n",
       "    <tr style=\"text-align: right;\">\n",
       "      <th></th>\n",
       "      <th>Customer</th>\n",
       "      <th>ST</th>\n",
       "      <th>Gender</th>\n",
       "      <th>Education</th>\n",
       "      <th>CLV</th>\n",
       "      <th>Income</th>\n",
       "      <th>Month_Prem_Auto</th>\n",
       "      <th>Num_open_complaints</th>\n",
       "      <th>Policy_type</th>\n",
       "      <th>Vehicle_class</th>\n",
       "      <th>Total_claim_amount</th>\n",
       "    </tr>\n",
       "  </thead>\n",
       "  <tbody>\n",
       "    <tr>\n",
       "      <th>0</th>\n",
       "      <td>RB50392</td>\n",
       "      <td>Washington</td>\n",
       "      <td>NaN</td>\n",
       "      <td>Master</td>\n",
       "      <td>NaN</td>\n",
       "      <td>0.0</td>\n",
       "      <td>1000.0</td>\n",
       "      <td>1/0/00</td>\n",
       "      <td>Personal Auto</td>\n",
       "      <td>Four-Door Car</td>\n",
       "      <td>2.704934</td>\n",
       "    </tr>\n",
       "    <tr>\n",
       "      <th>78</th>\n",
       "      <td>SP81997</td>\n",
       "      <td>Washington</td>\n",
       "      <td>F</td>\n",
       "      <td>Master</td>\n",
       "      <td>NaN</td>\n",
       "      <td>41275.0</td>\n",
       "      <td>96.0</td>\n",
       "      <td>1/0/00</td>\n",
       "      <td>Personal Auto</td>\n",
       "      <td>Four-Door Car</td>\n",
       "      <td>41.122303</td>\n",
       "    </tr>\n",
       "    <tr>\n",
       "      <th>988</th>\n",
       "      <td>GT62080</td>\n",
       "      <td>Washington</td>\n",
       "      <td>M</td>\n",
       "      <td>High School or Below</td>\n",
       "      <td>NaN</td>\n",
       "      <td>55561.0</td>\n",
       "      <td>63.0</td>\n",
       "      <td>1/0/00</td>\n",
       "      <td>Personal Auto</td>\n",
       "      <td>Four-Door Car</td>\n",
       "      <td>227.872071</td>\n",
       "    </tr>\n",
       "  </tbody>\n",
       "</table>\n",
       "</div>"
      ],
      "text/plain": [
       "    Customer          ST Gender             Education  CLV   Income  \\\n",
       "0    RB50392  Washington    NaN                Master  NaN      0.0   \n",
       "78   SP81997  Washington      F                Master  NaN  41275.0   \n",
       "988  GT62080  Washington      M  High School or Below  NaN  55561.0   \n",
       "\n",
       "     Month_Prem_Auto Num_open_complaints    Policy_type  Vehicle_class  \\\n",
       "0             1000.0              1/0/00  Personal Auto  Four-Door Car   \n",
       "78              96.0              1/0/00  Personal Auto  Four-Door Car   \n",
       "988             63.0              1/0/00  Personal Auto  Four-Door Car   \n",
       "\n",
       "     Total_claim_amount  \n",
       "0              2.704934  \n",
       "78            41.122303  \n",
       "988          227.872071  "
      ]
     },
     "execution_count": 103,
     "metadata": {},
     "output_type": "execute_result"
    }
   ],
   "source": [
    "customers[customers[\"CLV\"].isnull()]"
   ]
  },
  {
   "cell_type": "markdown",
   "id": "98416351-e999-4156-9834-9b00a311adfa",
   "metadata": {},
   "source": [
    "## Exercise 5: Dealing with duplicates"
   ]
  },
  {
   "cell_type": "markdown",
   "id": "ae35e8e9-4ee4-4e8e-8a5a-c8d270693bb5",
   "metadata": {},
   "source": [
    "Use the .duplicated() method to identify any duplicate rows in the dataframe.\n",
    "\n",
    "Decide on a strategy for handling the duplicates. Options include:\n",
    "- Dropping all duplicate rows\n",
    "- Keeping only the first occurrence of each duplicated row\n",
    "- Keeping only the last occurrence of each duplicated row\n",
    "- Dropping duplicates based on a subset of columns\n",
    "- Dropping duplicates based on a specific column\n",
    "\n",
    "Implement your chosen strategy using the drop_duplicates() function.\n",
    "\n",
    "Verify that your strategy has successfully handled the duplicates by checking for duplicates again using .duplicated().\n",
    "\n",
    "Remember to document your process and explain your reasoning for choosing a particular strategy for handling duplicates.\n",
    "\n",
    "Save the cleaned dataset to a new CSV file."
   ]
  },
  {
   "cell_type": "code",
   "execution_count": 118,
   "id": "1929362c-47ed-47cb-baca-358b78d401a0",
   "metadata": {},
   "outputs": [
    {
     "data": {
      "text/plain": [
       "False    1071\n",
       "dtype: int64"
      ]
     },
     "execution_count": 118,
     "metadata": {},
     "output_type": "execute_result"
    }
   ],
   "source": [
    "duplicated_sr = customers.duplicated()\n",
    "\n",
    "duplicated_counts = duplicated_sr.value_counts()\n",
    "\n",
    "duplicated_counts\n"
   ]
  },
  {
   "cell_type": "code",
   "execution_count": 119,
   "id": "36e45d03",
   "metadata": {},
   "outputs": [
    {
     "data": {
      "text/plain": [
       "False"
      ]
     },
     "execution_count": 119,
     "metadata": {},
     "output_type": "execute_result"
    }
   ],
   "source": [
    "has_duplicates = customers[\"Customer\"].duplicated().any()\n",
    "\n",
    "has_duplicates\n",
    "\n",
    "#There aren´t any duplicated rows in the data set"
   ]
  },
  {
   "cell_type": "markdown",
   "id": "60840701-4783-40e2-b4d8-55303f9100c9",
   "metadata": {},
   "source": [
    "# Challenge 2: creating functions on a separate `py` file"
   ]
  },
  {
   "cell_type": "markdown",
   "id": "9d1adb3a-17cf-4899-8041-da21a4337fb4",
   "metadata": {},
   "source": [
    "Put all the data cleaning and formatting steps into functions, and create a main function that performs all the cleaning and formatting. \n",
    "\n",
    "Write these functions in a separate .py file(s). By putting these steps into functions, we can make the code more modular and easier to maintain. "
   ]
  },
  {
   "cell_type": "markdown",
   "id": "0e170dc2-b62c-417a-8248-e63ed18a70c4",
   "metadata": {},
   "source": [
    "*Hint: autoreload module is a utility module in Python that allows you to automatically reload modules in the current session when changes are made to the source code. This can be useful in situations where you are actively developing code and want to see the effects of changes you make without having to constantly restart the Python interpreter or Jupyter Notebook kernel.*"
   ]
  },
  {
   "cell_type": "code",
   "execution_count": 120,
   "id": "a52c6dfc-cd11-4d01-bda4-f719fa33e9a4",
   "metadata": {},
   "outputs": [],
   "source": [
    "def clean_data(url):\n",
    "\n",
    "    customers = pd.read_csv(url)\n",
    "\n",
    "    new_columns = {\n",
    "        \"GENDER\": \"Gender\",\n",
    "        \"Customer Lifetime Value\": \"CLV\",\n",
    "        \"Monthly Premium Auto\": \"Month_Prem_Auto\",\n",
    "        \"Number of Open Complaints\": \"Num_open_complaints\",\n",
    "        \"Policy Type\": \"Policy_type\",\n",
    "        \"Vehicle Class\": \"Vehicle_class\",\n",
    "        \"Total Claim Amount\": \"Total_claim_amount\"\n",
    "    }\n",
    "    customers.rename(columns=new_columns, inplace=True)\n",
    "\n",
    "    customers['Gender'].replace({\"Femal\": \"F\", \"Male\": \"M\", \"female\": \"F\"}, inplace=True)\n",
    "    customers['Total_claim_amount'] = customers['Total_claim_amount'].astype(float)\n",
    "    customers['CLV'] = customers['CLV'].astype(str)\n",
    "    customers['CLV'] = customers['CLV'].str.rstrip('%').astype(float) / 100.0\n",
    "\n",
    "    customers.dropna(how='all', inplace=True)\n",
    "\n",
    "    return customers"
   ]
  },
  {
   "cell_type": "markdown",
   "id": "80f846bb-3f5e-4ca2-96c0-900728daca5a",
   "metadata": {
    "tags": []
   },
   "source": [
    "# Challenge 3: Analyzing Clean and Formated Data"
   ]
  },
  {
   "cell_type": "markdown",
   "id": "9021630e-cc90-446c-b5bd-264d6c864207",
   "metadata": {},
   "source": [
    "You have been tasked with analyzing the data to identify potential areas for improving customer retention and profitability. Your goal is to identify customers with a high policy claim amount and a low customer lifetime value.\n",
    "\n",
    "In Pandas Lab, we only looked at high policy claim amounts because we couldn't look into low customer lifetime values. If we tried to do work with that column, we wouldn't have been able to do it because customer lifetime value wasn't clean and in its proper format. So after cleaning and formatting the data, lets get some more interesting insights!\n",
    "\n",
    "Instructions:\n",
    "\n",
    "- Review again the statistics for total claim amount and customer lifetime value to gain an understanding of the data.\n",
    "- To identify potential areas for improving customer retention and profitability, we want to focus on customers with a high policy claim amount and a low customer lifetime value. Consider customers with a high policy claim amount to be those in the top 25% of the total claim amount, and clients with a low customer lifetime value to be those in the bottom 25% of the customer lifetime value. Create a pandas DataFrame object that contains information about customers with a policy claim amount greater than the 75th percentile and a customer lifetime value in the bottom 25th percentile.\n",
    "- Use DataFrame methods to calculate summary statistics about the high policy claim amount and low customer lifetime value data. To do so, select both columns of the dataframe simultaneously and pass it to the .describe() method. This will give you descriptive statistics, such as mean, median, standard deviation, minimum and maximum values for both columns at the same time, allowing you to compare and analyze their characteristics."
   ]
  },
  {
   "cell_type": "code",
   "execution_count": 121,
   "id": "211e82b5-461a-4d6f-8a23-4deccb84173c",
   "metadata": {},
   "outputs": [
    {
     "data": {
      "text/plain": [
       "count    1068.000000\n",
       "mean       79.369026\n",
       "std        64.347841\n",
       "min        20.043507\n",
       "25%        40.340800\n",
       "50%        58.817423\n",
       "75%        89.628720\n",
       "max       581.665535\n",
       "Name: CLV, dtype: float64"
      ]
     },
     "execution_count": 121,
     "metadata": {},
     "output_type": "execute_result"
    }
   ],
   "source": [
    "customers[\"CLV\"].describe()"
   ]
  },
  {
   "cell_type": "code",
   "execution_count": 122,
   "id": "87585382",
   "metadata": {},
   "outputs": [
    {
     "data": {
      "text/plain": [
       "count    1071.000000\n",
       "mean      404.986909\n",
       "std       293.027260\n",
       "min         0.382107\n",
       "25%       202.157702\n",
       "50%       354.729129\n",
       "75%       532.800000\n",
       "max      2893.239678\n",
       "Name: Total_claim_amount, dtype: float64"
      ]
     },
     "execution_count": 122,
     "metadata": {},
     "output_type": "execute_result"
    }
   ],
   "source": [
    "customers[\"Total_claim_amount\"].describe()"
   ]
  },
  {
   "cell_type": "code",
   "execution_count": 125,
   "id": "2b27e162",
   "metadata": {},
   "outputs": [
    {
     "data": {
      "text/html": [
       "<div>\n",
       "<style scoped>\n",
       "    .dataframe tbody tr th:only-of-type {\n",
       "        vertical-align: middle;\n",
       "    }\n",
       "\n",
       "    .dataframe tbody tr th {\n",
       "        vertical-align: top;\n",
       "    }\n",
       "\n",
       "    .dataframe thead th {\n",
       "        text-align: right;\n",
       "    }\n",
       "</style>\n",
       "<table border=\"1\" class=\"dataframe\">\n",
       "  <thead>\n",
       "    <tr style=\"text-align: right;\">\n",
       "      <th></th>\n",
       "      <th>Customer</th>\n",
       "      <th>ST</th>\n",
       "      <th>Gender</th>\n",
       "      <th>Education</th>\n",
       "      <th>CLV</th>\n",
       "      <th>Income</th>\n",
       "      <th>Month_Prem_Auto</th>\n",
       "      <th>Num_open_complaints</th>\n",
       "      <th>Policy_type</th>\n",
       "      <th>Vehicle_class</th>\n",
       "      <th>Total_claim_amount</th>\n",
       "    </tr>\n",
       "  </thead>\n",
       "  <tbody>\n",
       "    <tr>\n",
       "      <th>0</th>\n",
       "      <td>OE15005</td>\n",
       "      <td>Cali</td>\n",
       "      <td>NaN</td>\n",
       "      <td>College</td>\n",
       "      <td>39.452416</td>\n",
       "      <td>28855.0</td>\n",
       "      <td>101.0</td>\n",
       "      <td>1/0/00</td>\n",
       "      <td>Personal Auto</td>\n",
       "      <td>SUV</td>\n",
       "      <td>647.442031</td>\n",
       "    </tr>\n",
       "    <tr>\n",
       "      <th>1</th>\n",
       "      <td>TZ98966</td>\n",
       "      <td>Nevada</td>\n",
       "      <td>NaN</td>\n",
       "      <td>Bachelor</td>\n",
       "      <td>24.501910</td>\n",
       "      <td>0.0</td>\n",
       "      <td>73.0</td>\n",
       "      <td>1/3/00</td>\n",
       "      <td>Corporate Auto</td>\n",
       "      <td>Four-Door Car</td>\n",
       "      <td>554.376763</td>\n",
       "    </tr>\n",
       "    <tr>\n",
       "      <th>2</th>\n",
       "      <td>US89481</td>\n",
       "      <td>California</td>\n",
       "      <td>NaN</td>\n",
       "      <td>Bachelor</td>\n",
       "      <td>39.463721</td>\n",
       "      <td>0.0</td>\n",
       "      <td>111.0</td>\n",
       "      <td>1/0/00</td>\n",
       "      <td>Personal Auto</td>\n",
       "      <td>Four-Door Car</td>\n",
       "      <td>799.200000</td>\n",
       "    </tr>\n",
       "    <tr>\n",
       "      <th>3</th>\n",
       "      <td>CM61827</td>\n",
       "      <td>Oregon</td>\n",
       "      <td>NaN</td>\n",
       "      <td>Bachelor</td>\n",
       "      <td>30.900341</td>\n",
       "      <td>0.0</td>\n",
       "      <td>90.0</td>\n",
       "      <td>1/0/00</td>\n",
       "      <td>Personal Auto</td>\n",
       "      <td>Two-Door Car</td>\n",
       "      <td>648.000000</td>\n",
       "    </tr>\n",
       "    <tr>\n",
       "      <th>4</th>\n",
       "      <td>IL19217</td>\n",
       "      <td>California</td>\n",
       "      <td>NaN</td>\n",
       "      <td>Bachelor</td>\n",
       "      <td>39.390064</td>\n",
       "      <td>60021.0</td>\n",
       "      <td>99.0</td>\n",
       "      <td>1/0/00</td>\n",
       "      <td>Personal Auto</td>\n",
       "      <td>Four-Door Car</td>\n",
       "      <td>882.871945</td>\n",
       "    </tr>\n",
       "    <tr>\n",
       "      <th>5</th>\n",
       "      <td>FG63582</td>\n",
       "      <td>Oregon</td>\n",
       "      <td>NaN</td>\n",
       "      <td>Bachelor</td>\n",
       "      <td>33.397649</td>\n",
       "      <td>0.0</td>\n",
       "      <td>94.0</td>\n",
       "      <td>1/0/00</td>\n",
       "      <td>Personal Auto</td>\n",
       "      <td>Two-Door Car</td>\n",
       "      <td>863.327324</td>\n",
       "    </tr>\n",
       "    <tr>\n",
       "      <th>6</th>\n",
       "      <td>MS41162</td>\n",
       "      <td>AZ</td>\n",
       "      <td>NaN</td>\n",
       "      <td>High School or Below</td>\n",
       "      <td>40.229635</td>\n",
       "      <td>0.0</td>\n",
       "      <td>117.0</td>\n",
       "      <td>1/0/00</td>\n",
       "      <td>Personal Auto</td>\n",
       "      <td>SUV</td>\n",
       "      <td>975.107098</td>\n",
       "    </tr>\n",
       "    <tr>\n",
       "      <th>7</th>\n",
       "      <td>DS81757</td>\n",
       "      <td>Oregon</td>\n",
       "      <td>M</td>\n",
       "      <td>College</td>\n",
       "      <td>24.701212</td>\n",
       "      <td>0.0</td>\n",
       "      <td>74.0</td>\n",
       "      <td>1/0/00</td>\n",
       "      <td>Personal Auto</td>\n",
       "      <td>Two-Door Car</td>\n",
       "      <td>721.242206</td>\n",
       "    </tr>\n",
       "    <tr>\n",
       "      <th>8</th>\n",
       "      <td>KA61892</td>\n",
       "      <td>Arizona</td>\n",
       "      <td>M</td>\n",
       "      <td>College</td>\n",
       "      <td>38.736470</td>\n",
       "      <td>28142.0</td>\n",
       "      <td>105.0</td>\n",
       "      <td>1/0/00</td>\n",
       "      <td>Personal Auto</td>\n",
       "      <td>Sports Car</td>\n",
       "      <td>701.708239</td>\n",
       "    </tr>\n",
       "    <tr>\n",
       "      <th>9</th>\n",
       "      <td>ND87334</td>\n",
       "      <td>California</td>\n",
       "      <td>M</td>\n",
       "      <td>High School or Below</td>\n",
       "      <td>22.875969</td>\n",
       "      <td>0.0</td>\n",
       "      <td>63.0</td>\n",
       "      <td>1/0/00</td>\n",
       "      <td>Corporate Auto</td>\n",
       "      <td>Two-Door Car</td>\n",
       "      <td>679.368378</td>\n",
       "    </tr>\n",
       "  </tbody>\n",
       "</table>\n",
       "</div>"
      ],
      "text/plain": [
       "  Customer          ST Gender             Education        CLV   Income  \\\n",
       "0  OE15005        Cali    NaN               College  39.452416  28855.0   \n",
       "1  TZ98966      Nevada    NaN              Bachelor  24.501910      0.0   \n",
       "2  US89481  California    NaN              Bachelor  39.463721      0.0   \n",
       "3  CM61827      Oregon    NaN              Bachelor  30.900341      0.0   \n",
       "4  IL19217  California    NaN              Bachelor  39.390064  60021.0   \n",
       "5  FG63582      Oregon    NaN              Bachelor  33.397649      0.0   \n",
       "6  MS41162          AZ    NaN  High School or Below  40.229635      0.0   \n",
       "7  DS81757      Oregon      M               College  24.701212      0.0   \n",
       "8  KA61892     Arizona      M               College  38.736470  28142.0   \n",
       "9  ND87334  California      M  High School or Below  22.875969      0.0   \n",
       "\n",
       "   Month_Prem_Auto Num_open_complaints     Policy_type  Vehicle_class  \\\n",
       "0            101.0              1/0/00   Personal Auto            SUV   \n",
       "1             73.0              1/3/00  Corporate Auto  Four-Door Car   \n",
       "2            111.0              1/0/00   Personal Auto  Four-Door Car   \n",
       "3             90.0              1/0/00   Personal Auto   Two-Door Car   \n",
       "4             99.0              1/0/00   Personal Auto  Four-Door Car   \n",
       "5             94.0              1/0/00   Personal Auto   Two-Door Car   \n",
       "6            117.0              1/0/00   Personal Auto            SUV   \n",
       "7             74.0              1/0/00   Personal Auto   Two-Door Car   \n",
       "8            105.0              1/0/00   Personal Auto     Sports Car   \n",
       "9             63.0              1/0/00  Corporate Auto   Two-Door Car   \n",
       "\n",
       "   Total_claim_amount  \n",
       "0          647.442031  \n",
       "1          554.376763  \n",
       "2          799.200000  \n",
       "3          648.000000  \n",
       "4          882.871945  \n",
       "5          863.327324  \n",
       "6          975.107098  \n",
       "7          721.242206  \n",
       "8          701.708239  \n",
       "9          679.368378  "
      ]
     },
     "execution_count": 125,
     "metadata": {},
     "output_type": "execute_result"
    }
   ],
   "source": [
    "claim_75 = customers['Total_claim_amount'].quantile(0.75)\n",
    "clv_25 = customers['CLV'].quantile(0.25)\n",
    "\n",
    "high_claim = customers[customers['Total_claim_amount'] > claim_75]\n",
    "\n",
    "low_clv = customers[customers['CLV'] < clv_25]\n",
    "\n",
    "target_customers = pd.merge(high_claim, low_clv, how='inner')\n",
    "\n",
    "target_customers.head(10)"
   ]
  },
  {
   "cell_type": "code",
   "execution_count": 127,
   "id": "8a7b7804",
   "metadata": {},
   "outputs": [
    {
     "data": {
      "text/html": [
       "<div>\n",
       "<style scoped>\n",
       "    .dataframe tbody tr th:only-of-type {\n",
       "        vertical-align: middle;\n",
       "    }\n",
       "\n",
       "    .dataframe tbody tr th {\n",
       "        vertical-align: top;\n",
       "    }\n",
       "\n",
       "    .dataframe thead th {\n",
       "        text-align: right;\n",
       "    }\n",
       "</style>\n",
       "<table border=\"1\" class=\"dataframe\">\n",
       "  <thead>\n",
       "    <tr style=\"text-align: right;\">\n",
       "      <th></th>\n",
       "      <th>Total_claim_amount</th>\n",
       "      <th>CLV</th>\n",
       "    </tr>\n",
       "  </thead>\n",
       "  <tbody>\n",
       "    <tr>\n",
       "      <th>count</th>\n",
       "      <td>40.000000</td>\n",
       "      <td>40.000000</td>\n",
       "    </tr>\n",
       "    <tr>\n",
       "      <th>mean</th>\n",
       "      <td>723.776577</td>\n",
       "      <td>34.157791</td>\n",
       "    </tr>\n",
       "    <tr>\n",
       "      <th>std</th>\n",
       "      <td>149.280606</td>\n",
       "      <td>5.692147</td>\n",
       "    </tr>\n",
       "    <tr>\n",
       "      <th>min</th>\n",
       "      <td>537.600000</td>\n",
       "      <td>22.875969</td>\n",
       "    </tr>\n",
       "    <tr>\n",
       "      <th>25%</th>\n",
       "      <td>633.378846</td>\n",
       "      <td>30.422087</td>\n",
       "    </tr>\n",
       "    <tr>\n",
       "      <th>50%</th>\n",
       "      <td>685.284189</td>\n",
       "      <td>36.599537</td>\n",
       "    </tr>\n",
       "    <tr>\n",
       "      <th>75%</th>\n",
       "      <td>799.200000</td>\n",
       "      <td>38.736470</td>\n",
       "    </tr>\n",
       "    <tr>\n",
       "      <th>max</th>\n",
       "      <td>1185.988301</td>\n",
       "      <td>40.238144</td>\n",
       "    </tr>\n",
       "  </tbody>\n",
       "</table>\n",
       "</div>"
      ],
      "text/plain": [
       "       Total_claim_amount        CLV\n",
       "count           40.000000  40.000000\n",
       "mean           723.776577  34.157791\n",
       "std            149.280606   5.692147\n",
       "min            537.600000  22.875969\n",
       "25%            633.378846  30.422087\n",
       "50%            685.284189  36.599537\n",
       "75%            799.200000  38.736470\n",
       "max           1185.988301  40.238144"
      ]
     },
     "execution_count": 127,
     "metadata": {},
     "output_type": "execute_result"
    }
   ],
   "source": [
    "summary_statistics = target_customers[['Total_claim_amount', 'CLV']].describe()\n",
    "\n",
    "summary_statistics"
   ]
  }
 ],
 "metadata": {
  "kernelspec": {
   "display_name": "Python 3 (ipykernel)",
   "language": "python",
   "name": "python3"
  },
  "language_info": {
   "codemirror_mode": {
    "name": "ipython",
    "version": 3
   },
   "file_extension": ".py",
   "mimetype": "text/x-python",
   "name": "python",
   "nbconvert_exporter": "python",
   "pygments_lexer": "ipython3",
   "version": "3.10.11"
  }
 },
 "nbformat": 4,
 "nbformat_minor": 5
}
